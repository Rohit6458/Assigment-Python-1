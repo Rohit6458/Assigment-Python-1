{
  "cells": [
    {
      "cell_type": "code",
      "execution_count": null,
      "metadata": {},
      "outputs": [],
      "source": []
    },
    {
      "cell_type": "markdown",
      "metadata": {},
      "source": [
        "1)->for loap and while loap both are iterative statment we used such statment for excute inside code in multiple line.\n",
        "e.g:-\n",
        "l=[1,2,3,(45,67),{\"Rohit\",56}]\n",
        "for i in range(0,len(l),1):\n",
        "    print(l[i])\n",
        "    \n",
        "e.g:-\n",
        "s=(1,2,3,\"Rohit\",\"Mohan\",1+2j,True)\n",
        "i=0;\n",
        "while(i<len(s)):\n",
        "    if(s[i]==True):\n",
        "        print(\"Found it!\")\n",
        "        break;\n",
        "    ++i\n"
      ]
    },
    {
      "cell_type": "code",
      "execution_count": null,
      "metadata": {
        "trusted": true
      },
      "outputs": [],
      "source": [
        "# 2)-> a)For loop\n",
        "sum1=0;\n",
        "mul=1;\n",
        "for i in range(1,11,1):\n",
        "    sum1+=i\n",
        "    mul*=i\n",
        "print(sum1,mul)\n",
        "\n",
        "# b)While loop:-\n",
        "sum1=0;\n",
        "mul=1;\n",
        "i=1;\n",
        "while(i<=10):\n",
        "    sum1+=i\n",
        "    mul*=i\n",
        "    i+=1;\n",
        "print(sum1,mul)    "
      ]
    },
    {
      "cell_type": "code",
      "execution_count": null,
      "metadata": {},
      "outputs": [],
      "source": [
        "\n",
        "unit=310\n",
        "if(unit>=0 and unit<=100):\n",
        "    print(\"Total Bill \",unit*4.5)\n",
        "elif(unit>=101 and unit<=200):\n",
        "    print(\"Total Bill \", unit*6)\n",
        "elif(unit>=201 and unit<=300):\n",
        "    print(\"Total Bill \",unit*10)\n",
        "else:\n",
        "    print(\"Total Bill \", unit*20)"
      ]
    },
    {
      "cell_type": "code",
      "execution_count": null,
      "metadata": {
        "trusted": true
      },
      "outputs": [],
      "source": []
    },
    {
      "cell_type": "code",
      "execution_count": null,
      "metadata": {
        "trusted": true
      },
      "outputs": [
        {
          "name": "stdout",
          "output_type": "stream",
          "text": [
            "[2, 4, 5, 6, 8, 10, 12, 14, 15, 16, 18, 20, 22, 24, 25, 26, 28, 30, 32, 34, 35, 36, 38, 40, 42, 44, 45, 46, 48, 50, 52, 54, 55, 56, 58, 60, 62, 64, 65, 66, 68, 70, 72, 74, 75, 76, 78, 80, 82, 84, 85, 86, 88, 90, 92, 94, 95, 96, 98, 100] 60\n"
          ]
        }
      ],
      "source": [
        "4)->i=1;\n",
        "l1=[]\n",
        "for i in range(1,101,1):\n",
        "    num=i\n",
        "    cube=1\n",
        "    for j in range(1,4,1):\n",
        "        cube*=num\n",
        "    if(cube%4==0 or cube%5==0):\n",
        "        l1.append(i)\n",
        "print(l1)\n",
        "\n",
        "        \n",
        "        \n",
        "        "
      ]
    },
    {
      "cell_type": "code",
      "execution_count": null,
      "metadata": {
        "trusted": true
      },
      "outputs": [
        {
          "name": "stdout",
          "output_type": "stream",
          "text": [
            "11\n"
          ]
        }
      ],
      "source": [
        "5)->s=\"I want to become a data scientist\"\n",
        "count=0;\n",
        "for i in range(0,len(s),1):\n",
        "    if(s[i]=='a' or s[i]=='e' or s[i]=='i' or s[i]=='o' or s[i]=='u'):\n",
        "        count+=1\n",
        "print(count)        "
      ]
    }
  ],
  "metadata": {
    "kernelspec": {
      "display_name": "Python 3",
      "language": "python",
      "name": "python3"
    },
    "language_info": {
      "codemirror_mode": {
        "name": "python",
        "version": 3
      },
      "file_extension": ".py",
      "mimetype": "text/x-python",
      "name": "python",
      "nbconvert_exporter": "python",
      "pygments_lexer": "ipython3",
      "version": "3.10.8"
    },
    "vscode": {
      "interpreter": {
        "hash": "854ad7b50770bedaf0cab730b1aaabb765566ea98036f134b639e260bede141e"
      }
    }
  },
  "nbformat": 4,
  "nbformat_minor": 4
}
